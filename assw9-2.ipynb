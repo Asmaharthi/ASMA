{
 "cells": [
  {
   "cell_type": "code",
   "execution_count": 1,
   "metadata": {},
   "outputs": [],
   "source": [
    "from hashlib import sha256\n",
    "import datetime\n",
    "import time\n",
    "import json"
   ]
  },
  {
   "cell_type": "code",
   "execution_count": 2,
   "metadata": {},
   "outputs": [],
   "source": [
    "#Eg:\n",
    "tx_1 = {\n",
    "   \"addr_from\": \"3J98t1WpEZ73CNmQviecrnyiWrnqRhWNLy\",\n",
    "   \"addr_to\": \"1BvBMSEYstWetqTFn5Au4m4GFg7xJaNVN2\",   \n",
    "   \"amount\": 99.00\n",
    "}\n",
    "tx_2 = {\n",
    "   \"addr_from\": \"5J98t1WpEZ73CNmQviecrnyiWrnqRhWNLy\",\n",
    "   \"addr_to\": \"2BvBMSEYstWetqTFn5Au4m4GFg7xJaNVN2\",   \n",
    "   \"amount\": 150.00\n",
    "}"
   ]
  },
  {
   "cell_type": "code",
   "execution_count": 3,
   "metadata": {},
   "outputs": [],
   "source": [
    "class Block:      \n",
    "    def __init__(self, index, transactions, timestamp, previous_hash, nonce=0):\n",
    "        self.index = index\n",
    "        self.transactions = transactions\n",
    "        self.timestamp = timestamp\n",
    "        self.previous_hash = previous_hash\n",
    "        self.nonce = nonce\n",
    "        \n",
    "    def compute_hash(self):\n",
    "        block_string = json.dumps(self.__dict__, sort_keys=True)\n",
    "        return sha256(block_string.encode()).hexdigest()"
   ]
  },
  {
   "cell_type": "code",
   "execution_count": 6,
   "metadata": {},
   "outputs": [],
   "source": [
    "class Blockchain:     \n",
    "   def __init__(self):\n",
    "       self.unconfirmed_transactions = []\n",
    "       self.chain = []\n",
    "       self.difficulty = 4\n",
    "       self.create_genesis_block() \n",
    " \n",
    "     \n",
    "   def create_genesis_block(self):\n",
    "        genesis_block = Block(0, [\"in the name of allah the most gracious the most merciful ,  First, do no harm\"], time.time(), \"0\")\n",
    "        genesis_block.hash = genesis_block.compute_hash()\n",
    "        self.chain.append(genesis_block)\n",
    "   @property\n",
    "   def last_block(self):\n",
    "      return self.chain[-1] \n",
    "   \n",
    "   \n",
    "   def proof_of_work(self, block):\n",
    "          block.nonce = 1\n",
    "          computed_hash = block.compute_hash()\n",
    "          while not computed_hash.startswith('0' * self.difficulty):\n",
    "             block.nonce += 1\n",
    "             computed_hash = block.compute_hash()\n",
    "          return computed_hash\n",
    "   \n",
    "   def is_valid_proof(self, block, block_hash):\n",
    "        return (block_hash.startswith('0' * self.difficulty) and block_hash == block.compute_hash())\n",
    "   def add_block(self, block, proof):\n",
    "        previous_hash = self.last_block.hash\n",
    "        if previous_hash != block.previous_hash:\n",
    "            return False\n",
    "        if not self.is_valid_proof(block, proof):\n",
    "            return False\n",
    "        block.hash = proof\n",
    "        self.chain.append(block)\n",
    "        return True\n",
    "   def add_new_transaction(self, transaction):\n",
    "            self.unconfirmed_transactions.append(transaction)    \n",
    "   \n",
    "   def mine(self):\n",
    "        if not self.unconfirmed_transactions:\n",
    "            return False\n",
    " \n",
    "        last_block = self.last_block\n",
    " \n",
    "        new_block = Block(index=last_block.index + 1,\n",
    "                          transactions=self.unconfirmed_transactions,\n",
    "                          timestamp=time.time(),\n",
    "                          previous_hash=last_block.hash)\n",
    " \n",
    "        proof = self.proof_of_work(new_block)\n",
    "        self.add_block(new_block, proof)\n",
    "        self.unconfirmed_transactions = []\n",
    "        return new_block.index\n",
    "           \n"
   ]
  },
  {
   "cell_type": "code",
   "execution_count": 7,
   "metadata": {},
   "outputs": [
    {
     "name": "stdout",
     "output_type": "stream",
     "text": [
      "0000ad5eb44702b6051c1ffad49d4d1c2fd1183be2f9679f2878779d9fe206b8\n",
      "26953\n",
      "000042a0874bf7362886fb33a78261027998ddf09099de7a0d98b96fb7730ee0\n",
      "1998\n",
      "0000add45025a9330671cb7beedd7db6fdc1ccd8c70d56ebbe3096687790f761\n",
      "34975\n",
      "00007d189b7352c76f05806ab183a5d38e956a71e5c7277088a499431d016250\n",
      "63874\n",
      "00001b19b76b0d4639f46a5ba174e60a0c212456f9ad36799aeccd9e63411905\n",
      "9609\n",
      "0000fe054b50be6459d8172ab2b676113afb121773439f62fbaccc7055ec3f7b\n",
      "169307\n",
      "0000c65bde58d3b05ced02130bbc13a1215b40e5288c9b45909bda02e4ca0016\n",
      "99138\n",
      "000011ae8ee324757db56c7caa63559c04e6b7a3dccde3e66a70a5083f624dc4\n",
      "198772\n",
      "0000a7f55f867cc6ac95dd2ba4075834a7d744dc95642381777d151963710352\n",
      "14697\n"
     ]
    }
   ],
   "source": [
    "Titans = Blockchain()\n",
    "while len(Titans.chain) <10:\n",
    "    Titans.add_new_transaction(tx_1)\n",
    "    Titans.mine()\n",
    "    print(Titans.chain[-1].hash)\n",
    "    print(str(Titans.chain[-1].nonce))"
   ]
  }
 ],
 "metadata": {
  "interpreter": {
   "hash": "0d28d5ef4df02c2b3e58c315c50404f15c9eda046ca96ba1b0b7260f8bfdc2c1"
  },
  "kernelspec": {
   "display_name": "Python 3.8.8 64-bit ('base': conda)",
   "language": "python",
   "name": "python3"
  },
  "language_info": {
   "codemirror_mode": {
    "name": "ipython",
    "version": 3
   },
   "file_extension": ".py",
   "mimetype": "text/x-python",
   "name": "python",
   "nbconvert_exporter": "python",
   "pygments_lexer": "ipython3",
   "version": "3.8.8"
  },
  "orig_nbformat": 4
 },
 "nbformat": 4,
 "nbformat_minor": 2
}
